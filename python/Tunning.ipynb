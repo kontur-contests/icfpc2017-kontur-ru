{
 "cells": [
  {
   "cell_type": "code",
   "execution_count": 2,
   "metadata": {
    "collapsed": true
   },
   "outputs": [],
   "source": [
    "import pandas as pd\n",
    "import numpy as np\n",
    "import magic\n",
    "from matplotlib import pyplot as plt\n",
    "import importlib\n",
    "%matplotlib inline\n",
    "importlib.reload(magic)\n",
    "import seaborn as sns"
   ]
  },
  {
   "cell_type": "code",
   "execution_count": 3,
   "metadata": {
    "collapsed": true
   },
   "outputs": [],
   "source": [
    "csv_file = 'naserator.csv'"
   ]
  },
  {
   "cell_type": "code",
   "execution_count": 4,
   "metadata": {
    "collapsed": false
   },
   "outputs": [
    {
     "data": {
      "text/html": [
       "<div>\n",
       "<table border=\"1\" class=\"dataframe\">\n",
       "  <thead>\n",
       "    <tr style=\"text-align: right;\">\n",
       "      <th></th>\n",
       "      <th>game_number</th>\n",
       "      <th>server_name</th>\n",
       "      <th>scores</th>\n",
       "      <th>ranking</th>\n",
       "      <th>tournament_scores</th>\n",
       "      <th>num_players</th>\n",
       "      <th>map</th>\n",
       "      <th>map_rivers_count</th>\n",
       "      <th>map_sites_count</th>\n",
       "      <th>map_mines_count</th>\n",
       "      <th>name</th>\n",
       "      <th>param1</th>\n",
       "      <th>param2</th>\n",
       "      <th>param3</th>\n",
       "      <th>tournament</th>\n",
       "      <th>effectiveness</th>\n",
       "      <th>density</th>\n",
       "    </tr>\n",
       "  </thead>\n",
       "  <tbody>\n",
       "    <tr>\n",
       "      <th>0</th>\n",
       "      <td>0</td>\n",
       "      <td>Podnaserator2000Ai</td>\n",
       "      <td>81</td>\n",
       "      <td>0</td>\n",
       "      <td>3</td>\n",
       "      <td>3</td>\n",
       "      <td>Sierpinski-triangle.json</td>\n",
       "      <td>81</td>\n",
       "      <td>42</td>\n",
       "      <td>3</td>\n",
       "      <td>76ad06042d46498ab70f4d65139e7259</td>\n",
       "      <td>2.137022</td>\n",
       "      <td>1.718145</td>\n",
       "      <td>6.545865</td>\n",
       "      <td>1.000000</td>\n",
       "      <td>1.337056</td>\n",
       "      <td>1.175719</td>\n",
       "    </tr>\n",
       "    <tr>\n",
       "      <th>1</th>\n",
       "      <td>0</td>\n",
       "      <td>Podnaserator2000Ai</td>\n",
       "      <td>33</td>\n",
       "      <td>2</td>\n",
       "      <td>1</td>\n",
       "      <td>3</td>\n",
       "      <td>Sierpinski-triangle.json</td>\n",
       "      <td>81</td>\n",
       "      <td>42</td>\n",
       "      <td>3</td>\n",
       "      <td>8e4539b3b01d403995b92d797bf32866</td>\n",
       "      <td>1.364784</td>\n",
       "      <td>4.355336</td>\n",
       "      <td>26.758097</td>\n",
       "      <td>0.333333</td>\n",
       "      <td>1.069944</td>\n",
       "      <td>1.175719</td>\n",
       "    </tr>\n",
       "    <tr>\n",
       "      <th>2</th>\n",
       "      <td>0</td>\n",
       "      <td>Podnaserator2000Ai</td>\n",
       "      <td>65</td>\n",
       "      <td>1</td>\n",
       "      <td>2</td>\n",
       "      <td>3</td>\n",
       "      <td>Sierpinski-triangle.json</td>\n",
       "      <td>81</td>\n",
       "      <td>42</td>\n",
       "      <td>3</td>\n",
       "      <td>b4af4c0b2c664c4ca2a868685150eaa7</td>\n",
       "      <td>4.219238</td>\n",
       "      <td>2.002307</td>\n",
       "      <td>29.768379</td>\n",
       "      <td>0.666667</td>\n",
       "      <td>1.271196</td>\n",
       "      <td>1.175719</td>\n",
       "    </tr>\n",
       "    <tr>\n",
       "      <th>3</th>\n",
       "      <td>1</td>\n",
       "      <td>Podnaserator2000Ai</td>\n",
       "      <td>324</td>\n",
       "      <td>0</td>\n",
       "      <td>4</td>\n",
       "      <td>4</td>\n",
       "      <td>circle.json</td>\n",
       "      <td>65</td>\n",
       "      <td>27</td>\n",
       "      <td>4</td>\n",
       "      <td>76ad06042d46498ab70f4d65139e7259</td>\n",
       "      <td>2.137022</td>\n",
       "      <td>1.718145</td>\n",
       "      <td>6.545865</td>\n",
       "      <td>1.000000</td>\n",
       "      <td>2.074474</td>\n",
       "      <td>1.266564</td>\n",
       "    </tr>\n",
       "    <tr>\n",
       "      <th>4</th>\n",
       "      <td>1</td>\n",
       "      <td>Podnaserator2000Ai</td>\n",
       "      <td>94</td>\n",
       "      <td>2</td>\n",
       "      <td>2</td>\n",
       "      <td>4</td>\n",
       "      <td>circle.json</td>\n",
       "      <td>65</td>\n",
       "      <td>27</td>\n",
       "      <td>4</td>\n",
       "      <td>e0501010ef3f4986abc262769df5357a</td>\n",
       "      <td>4.340887</td>\n",
       "      <td>2.327102</td>\n",
       "      <td>12.614259</td>\n",
       "      <td>0.500000</td>\n",
       "      <td>1.633330</td>\n",
       "      <td>1.266564</td>\n",
       "    </tr>\n",
       "  </tbody>\n",
       "</table>\n",
       "</div>"
      ],
      "text/plain": [
       "   game_number         server_name  scores  ranking  tournament_scores  \\\n",
       "0            0  Podnaserator2000Ai      81        0                  3   \n",
       "1            0  Podnaserator2000Ai      33        2                  1   \n",
       "2            0  Podnaserator2000Ai      65        1                  2   \n",
       "3            1  Podnaserator2000Ai     324        0                  4   \n",
       "4            1  Podnaserator2000Ai      94        2                  2   \n",
       "\n",
       "   num_players                       map  map_rivers_count  map_sites_count  \\\n",
       "0            3  Sierpinski-triangle.json                81               42   \n",
       "1            3  Sierpinski-triangle.json                81               42   \n",
       "2            3  Sierpinski-triangle.json                81               42   \n",
       "3            4               circle.json                65               27   \n",
       "4            4               circle.json                65               27   \n",
       "\n",
       "   map_mines_count                              name    param1    param2  \\\n",
       "0                3  76ad06042d46498ab70f4d65139e7259  2.137022  1.718145   \n",
       "1                3  8e4539b3b01d403995b92d797bf32866  1.364784  4.355336   \n",
       "2                3  b4af4c0b2c664c4ca2a868685150eaa7  4.219238  2.002307   \n",
       "3                4  76ad06042d46498ab70f4d65139e7259  2.137022  1.718145   \n",
       "4                4  e0501010ef3f4986abc262769df5357a  4.340887  2.327102   \n",
       "\n",
       "      param3  tournament  effectiveness   density  \n",
       "0   6.545865    1.000000       1.337056  1.175719  \n",
       "1  26.758097    0.333333       1.069944  1.175719  \n",
       "2  29.768379    0.666667       1.271196  1.175719  \n",
       "3   6.545865    1.000000       2.074474  1.266564  \n",
       "4  12.614259    0.500000       1.633330  1.266564  "
      ]
     },
     "execution_count": 4,
     "metadata": {},
     "output_type": "execute_result"
    }
   ],
   "source": [
    "\n",
    "\n",
    "data = pd.read_csv(csv_file)\n",
    "data['tournament'] = data.tournament_scores/data.num_players\n",
    "data['effectiveness'] = np.log(data.scores+1)/np.log(data.map_rivers_count/data.num_players)\n",
    "data['density'] = np.log(data.map_rivers_count)/np.log(data.map_sites_count)\n",
    "data.head()"
   ]
  },
  {
   "cell_type": "code",
   "execution_count": 8,
   "metadata": {
    "collapsed": true
   },
   "outputs": [],
   "source": [
    "from xgboost import XGBClassifier"
   ]
  },
  {
   "cell_type": "code",
   "execution_count": 6,
   "metadata": {
    "collapsed": false
   },
   "outputs": [],
   "source": [
    "params = ['param1','param2','param3']\n",
    "\n",
    "test = data.loc[:  , ['game_number','ranking']+params]\n",
    "test = pd.merge(left=test,right=test,left_on='game_number',right_on='game_number',how='inner')\n",
    "test = test.loc[test.ranking_x!=test.ranking_y]\n",
    "test['x_wins'] = np.where(test.ranking_x<test.ranking_y,1,0)\n",
    "\n",
    "features = [p+\"_\"+l for p in params for l in ['x','y']]"
   ]
  },
  {
   "cell_type": "code",
   "execution_count": 9,
   "metadata": {
    "collapsed": false
   },
   "outputs": [
    {
     "data": {
      "text/plain": [
       "XGBClassifier(base_score=0.5, colsample_bylevel=1, colsample_bytree=1,\n",
       "       gamma=0, learning_rate=0.1, max_delta_step=0, max_depth=3,\n",
       "       min_child_weight=1, missing=None, n_estimators=100, nthread=-1,\n",
       "       objective='binary:logistic', reg_alpha=0, reg_lambda=1,\n",
       "       scale_pos_weight=1, seed=0, silent=True, subsample=1)"
      ]
     },
     "execution_count": 9,
     "metadata": {},
     "output_type": "execute_result"
    }
   ],
   "source": [
    "model = XGBClassifier()\n",
    "model.fit(test[features],test.x_wins)"
   ]
  },
  {
   "cell_type": "code",
   "execution_count": 12,
   "metadata": {
    "collapsed": false
   },
   "outputs": [
    {
     "data": {
      "text/plain": [
       "[('param1_x', 0.17673048),\n",
       " ('param1_y', 0.17820324),\n",
       " ('param2_x', 0.12960236),\n",
       " ('param2_y', 0.15022092),\n",
       " ('param3_x', 0.18998528),\n",
       " ('param3_y', 0.17525773)]"
      ]
     },
     "execution_count": 12,
     "metadata": {},
     "output_type": "execute_result"
    }
   ],
   "source": [
    "list(zip(features,model.feature_importances_))\n"
   ]
  },
  {
   "cell_type": "code",
   "execution_count": 13,
   "metadata": {
    "collapsed": false
   },
   "outputs": [
    {
     "ename": "SyntaxError",
     "evalue": "unexpected EOF while parsing (<ipython-input-13-9bc159903a6c>, line 2)",
     "output_type": "error",
     "traceback": [
      "\u001b[0;36m  File \u001b[0;32m\"<ipython-input-13-9bc159903a6c>\"\u001b[0;36m, line \u001b[0;32m2\u001b[0m\n\u001b[0;31m    cross_val_score(\u001b[0m\n\u001b[0m                    ^\u001b[0m\n\u001b[0;31mSyntaxError\u001b[0m\u001b[0;31m:\u001b[0m unexpected EOF while parsing\n"
     ]
    }
   ],
   "source": [
    "from sklearn.model_selection import cross_val_score\n",
    "cross_val_score(XGBClassifier(),features"
   ]
  }
 ],
 "metadata": {
  "kernelspec": {
   "display_name": "Python 3",
   "language": "python",
   "name": "python3"
  },
  "language_info": {
   "codemirror_mode": {
    "name": "ipython",
    "version": 3
   },
   "file_extension": ".py",
   "mimetype": "text/x-python",
   "name": "python",
   "nbconvert_exporter": "python",
   "pygments_lexer": "ipython3",
   "version": "3.6.0"
  }
 },
 "nbformat": 4,
 "nbformat_minor": 2
}
