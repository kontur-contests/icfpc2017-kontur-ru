{
 "cells": [
  {
   "cell_type": "code",
   "execution_count": null,
   "metadata": {
    "collapsed": true
   },
   "outputs": [],
   "source": [
    "import pandas as pd\n",
    "import numpy as np\n",
    "import magic\n",
    "from matplotlib import pyplot as plt\n",
    "import importlib\n",
    "%matplotlib inline\n",
    "importlib.reload(magic)\n",
    "import seaborn as sns"
   ]
  },
  {
   "cell_type": "code",
   "execution_count": null,
   "metadata": {
    "collapsed": true
   },
   "outputs": [],
   "source": [
    "csv_file = 'naserator.csv'"
   ]
  },
  {
   "cell_type": "code",
   "execution_count": null,
   "metadata": {
    "collapsed": false
   },
   "outputs": [],
   "source": [
    "\n",
    "\n",
    "data = pd.read_csv(csv_file)\n",
    "data['tournament'] = data.tournament_scores/data.num_players\n",
    "data['effectiveness'] = np.log(data.scores+1)/np.log(data.map_rivers_count/data.num_players)\n",
    "data['density'] = np.log(data.map_rivers_count)/np.log(data.map_sites_count)\n",
    "data.head()"
   ]
  },
  {
   "cell_type": "code",
   "execution_count": null,
   "metadata": {
    "collapsed": true
   },
   "outputs": [],
   "source": [
    "from xgb"
   ]
  },
  {
   "cell_type": "code",
   "execution_count": null,
   "metadata": {
    "collapsed": false
   },
   "outputs": [],
   "source": [
    "params = ['param1','param2','param3']\n",
    "\n",
    "test = data.loc[:  , ['game_number','ranking']+params]\n",
    "test = pd.merge(left=test,right=test,left_on='game_number',right_on='game_number',how='inner')\n",
    "test = test.loc[test.ranking_x!=test.ranking_y]\n",
    "test['x_wins'] = np.where(test.ranking_x<test.ranking_y,1,0)\n",
    "test"
   ]
  },
  {
   "cell_type": "code",
   "execution_count": null,
   "metadata": {
    "collapsed": true
   },
   "outputs": [],
   "source": []
  }
 ],
 "metadata": {
  "kernelspec": {
   "display_name": "Python 3",
   "language": "python",
   "name": "python3"
  },
  "language_info": {
   "codemirror_mode": {
    "name": "ipython",
    "version": 3
   },
   "file_extension": ".py",
   "mimetype": "text/x-python",
   "name": "python",
   "nbconvert_exporter": "python",
   "pygments_lexer": "ipython3",
   "version": "3.6.0"
  }
 },
 "nbformat": 4,
 "nbformat_minor": 2
}
