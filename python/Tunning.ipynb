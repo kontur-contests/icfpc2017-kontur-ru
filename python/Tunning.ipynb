{
 "cells": [
  {
   "cell_type": "code",
   "execution_count": 4,
   "metadata": {
    "collapsed": true
   },
   "outputs": [],
   "source": [
    "import pandas as pd\n",
    "import numpy as np\n",
    "import magic\n",
    "from matplotlib import pyplot as plt\n",
    "import importlib\n",
    "%matplotlib inline\n",
    "importlib.reload(magic)\n",
    "import seaborn as sns\n",
    "from xgboost import XGBClassifier,XGBRegressor\n",
    "from sklearn.metrics import mean_absolute_error\n",
    "from sklearn.linear_model import LinearRegression\n",
    "from sklearn.model_selection import cross_val_score"
   ]
  },
  {
   "cell_type": "code",
   "execution_count": null,
   "metadata": {
    "collapsed": true
   },
   "outputs": [],
   "source": []
  },
  {
   "cell_type": "code",
   "execution_count": 10,
   "metadata": {
    "collapsed": false
   },
   "outputs": [
    {
     "data": {
      "text/plain": [
       "['param1']"
      ]
     },
     "execution_count": 10,
     "metadata": {},
     "output_type": "execute_result"
    }
   ],
   "source": [
    "csv_file = 'future.csv'\n",
    "data = pd.read_csv(csv_file)\n",
    "data['tournament'] = data.tournament_scores/data.num_players\n",
    "data['effectiveness'] = np.log(data.scores+1)/np.log(data.map_rivers_count/data.num_players)\n",
    "data['density'] = np.log(data.map_rivers_count)/np.log(data.map_sites_count)\n",
    "params = [column for column in data.columns if column.startswith('param')]\n",
    "major = ['density','map_rivers_count','map_sites_count','map_mines_count','num_players']"
   ]
  },
  {
   "cell_type": "code",
   "execution_count": 6,
   "metadata": {
    "collapsed": false
   },
   "outputs": [
    {
     "name": "stdout",
     "output_type": "stream",
     "text": [
      "[-0.25135347 -0.24067857 -0.25665071]\n",
      "[-0.25001526 -0.24842291 -0.27226907]\n",
      "[-0.13712014 -0.17889225 -0.18773346]\n",
      "[-0.16630926 -0.1817479  -0.17652308]\n"
     ]
    }
   ],
   "source": [
    "data = data.loc[data.server_name=='Futurer']\n",
    "model = XGBRegressor()\n",
    "print(cross_val_score( model, data[major], data.tournament, scoring='neg_mean_absolute_error'))\n",
    "print(cross_val_score( model, data[major+param], data.tournament, scoring='neg_mean_absolute_error'))\n",
    "\n",
    "print(cross_val_score( model, data[features], data.effectiveness, scoring='neg_mean_absolute_error'))\n",
    "print(cross_val_score( model, data[features + ['param1']], data.effectiveness, scoring='neg_mean_absolute_error'))"
   ]
  },
  {
   "cell_type": "code",
   "execution_count": null,
   "metadata": {
    "collapsed": false
   },
   "outputs": [],
   "source": [
    "data.param1.hist()"
   ]
  },
  {
   "cell_type": "code",
   "execution_count": null,
   "metadata": {
    "collapsed": false
   },
   "outputs": [],
   "source": [
    "t = data.loc[data.map=='boston-sparse.json']\n",
    "t = data.groupby('name').mean()[['tournament','param1','effectiveness']]\n",
    "plt.scatter(t.param1,t.tournament)\n"
   ]
  },
  {
   "cell_type": "code",
   "execution_count": null,
   "metadata": {
    "collapsed": false
   },
   "outputs": [],
   "source": [
    "numparams = 1\n",
    "params = ['param' + str(i) for i in range(1,numparams+1)]\n",
    "\n",
    "test = data.loc[:  , ['game_number','ranking']+params]\n",
    "test = pd.merge(left=test,right=test,left_on='game_number',right_on='game_number',how='inner')\n",
    "test = test.loc[test.ranking_x!=test.ranking_y]\n",
    "test['x_wins'] = np.where(test.ranking_x<test.ranking_y,1,0)\n",
    "\n",
    "features = [p+\"_\"+l for p in params for l in ['x','y']]\n"
   ]
  },
  {
   "cell_type": "code",
   "execution_count": null,
   "metadata": {
    "collapsed": false
   },
   "outputs": [],
   "source": [
    "grs = test.groupby(['param1_x','param1_y']).mean()['x_wins'].reset_index()\n",
    "plt.scatter(grs.param1_x,grs.param1_y,c=grs.x_wins)"
   ]
  },
  {
   "cell_type": "code",
   "execution_count": null,
   "metadata": {
    "collapsed": true
   },
   "outputs": [],
   "source": []
  },
  {
   "cell_type": "code",
   "execution_count": null,
   "metadata": {
    "collapsed": false
   },
   "outputs": [],
   "source": [
    "model = XGBClassifier()\n",
    "model.fit(test[features],test.x_wins)"
   ]
  },
  {
   "cell_type": "code",
   "execution_count": null,
   "metadata": {
    "collapsed": false
   },
   "outputs": [],
   "source": [
    "list(zip(features,model.feature_importances_))\n"
   ]
  },
  {
   "cell_type": "code",
   "execution_count": null,
   "metadata": {
    "collapsed": false
   },
   "outputs": [],
   "source": [
    "from sklearn.model_selection import cross_val_score\n",
    "cross_val_score(XGBClassifier(),test[features],test.x_wins)"
   ]
  }
 ],
 "metadata": {
  "kernelspec": {
   "display_name": "Python 3",
   "language": "python",
   "name": "python3"
  },
  "language_info": {
   "codemirror_mode": {
    "name": "ipython",
    "version": 3
   },
   "file_extension": ".py",
   "mimetype": "text/x-python",
   "name": "python",
   "nbconvert_exporter": "python",
   "pygments_lexer": "ipython3",
   "version": "3.6.0"
  }
 },
 "nbformat": 4,
 "nbformat_minor": 2
}
