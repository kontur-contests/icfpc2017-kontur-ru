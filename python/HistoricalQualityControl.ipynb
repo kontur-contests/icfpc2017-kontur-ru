{
 "cells": [
  {
   "cell_type": "code",
   "execution_count": 1,
   "metadata": {
    "collapsed": false
   },
   "outputs": [
    {
     "data": {
      "text/plain": [
       "<module 'magic' from 'D:\\\\work\\\\icfpc2017\\\\python\\\\magic\\\\__init__.py'>"
      ]
     },
     "execution_count": 1,
     "metadata": {},
     "output_type": "execute_result"
    }
   ],
   "source": [
    "import pandas as pd\n",
    "import numpy as np\n",
    "import magic\n",
    "from matplotlib import pyplot as plt\n",
    "import importlib\n",
    "%matplotlib inline\n",
    "importlib.reload(magic)"
   ]
  },
  {
   "cell_type": "code",
   "execution_count": null,
   "metadata": {
    "collapsed": false
   },
   "outputs": [],
   "source": []
  },
  {
   "cell_type": "code",
   "execution_count": 2,
   "metadata": {
    "collapsed": false
   },
   "outputs": [
    {
     "name": "stdout",
     "output_type": "stream",
     "text": [
      "119             \r",
      "118             \r",
      "117             \r",
      "116             \r",
      "115             \r",
      "114             \r",
      "113             \r",
      "112             \r",
      "111             \r",
      "110             \r",
      "109             \r",
      "108             \r",
      "107             \r",
      "106             \r",
      "105             \r",
      "104             \r",
      "103             \r",
      "102             \r",
      "101             \r",
      "100             \r",
      "99             \r",
      "98             \r",
      "97             \r",
      "96             \r",
      "95             \r",
      "94             \r",
      "93             \r",
      "92             \r",
      "91             \r",
      "90             \r",
      "89             \r",
      "88             \r",
      "87             \r",
      "86             \r",
      "85             \r",
      "84             \r",
      "83             \r",
      "82             \r",
      "81             \r",
      "80             \r",
      "79             \r",
      "78             \r",
      "77             \r",
      "76             \r",
      "75             \r",
      "74             \r",
      "73             \r",
      "72             \r",
      "71             \r",
      "70             \r",
      "69             \r",
      "68             \r",
      "67             \r",
      "66             \r",
      "65             \r",
      "64             \r",
      "63             \r",
      "62             \r",
      "61             \r",
      "60             \r",
      "59             \r",
      "58             \r",
      "57             \r",
      "56             \r",
      "55             \r",
      "54             \r",
      "53             \r",
      "52             \r",
      "51             \r",
      "50             \r",
      "49             \r",
      "48             \r",
      "47             \r",
      "46             \r",
      "45             \r",
      "44             \r",
      "43             \r",
      "42             \r",
      "41             \r",
      "40             \r",
      "39             \r",
      "38             \r",
      "37             \r",
      "36             \r",
      "35             \r",
      "34             \r",
      "33             \r",
      "32             \r",
      "31             \r",
      "30             \r",
      "29             \r",
      "28             \r",
      "27             \r",
      "26             \r",
      "25             \r",
      "24             \r",
      "23             \r",
      "22             \r",
      "21             \r",
      "20             \r",
      "19             \r",
      "18             \r",
      "17             \r",
      "16             \r",
      "15             \r",
      "14             \r",
      "13             \r",
      "12             \r",
      "11             \r",
      "10             \r",
      "9             \r",
      "8             \r",
      "7             \r",
      "6             \r",
      "5             \r",
      "4             \r",
      "3             \r",
      "2             \r",
      "1             \r"
     ]
    },
    {
     "data": {
      "text/plain": [
       "<magic.fluent.Fluent at 0x9fc6828>"
      ]
     },
     "execution_count": 2,
     "metadata": {},
     "output_type": "execute_result"
    }
   ],
   "source": [
    "runner = magic.Fluent()\n",
    "(runner\n",
    "     .create_historical_players(3)\n",
    "     .battling_in_pairs()\n",
    "     .on_maps('sample.json','Sierpinski-triangle.json')\n",
    "     .repeating(10)\n",
    "     .experiment('Historical')\n",
    "     #.preview()\n",
    "     .run().dump().store_pointwise('historical.csv')\n",
    ")\n",
    "     "
   ]
  },
  {
   "cell_type": "code",
   "execution_count": 8,
   "metadata": {
    "collapsed": false
   },
   "outputs": [
    {
     "data": {
      "text/plain": [
       "22027"
      ]
     },
     "execution_count": 8,
     "metadata": {},
     "output_type": "execute_result"
    }
   ],
   "source": [
    "runner.token"
   ]
  },
  {
   "cell_type": "code",
   "execution_count": 6,
   "metadata": {
    "collapsed": false
   },
   "outputs": [],
   "source": [
    "\n",
    "data = pd.read_csv('historical.csv', index_col=False)\n",
    "\n",
    "#data"
   ]
  },
  {
   "cell_type": "code",
   "execution_count": 4,
   "metadata": {
    "collapsed": false
   },
   "outputs": [
    {
     "data": {
      "text/html": [
       "<div>\n",
       "<table border=\"1\" class=\"dataframe\">\n",
       "  <thead>\n",
       "    <tr style=\"text-align: right;\">\n",
       "      <th>server_name</th>\n",
       "      <th>ConnectClosestMinesAi</th>\n",
       "      <th>Dummy</th>\n",
       "      <th>GreedyAi</th>\n",
       "    </tr>\n",
       "    <tr>\n",
       "      <th>map</th>\n",
       "      <th></th>\n",
       "      <th></th>\n",
       "      <th></th>\n",
       "    </tr>\n",
       "  </thead>\n",
       "  <tbody>\n",
       "    <tr>\n",
       "      <th>Sierpinski-triangle.json</th>\n",
       "      <td>1775.65</td>\n",
       "      <td>182.875</td>\n",
       "      <td>1890.125</td>\n",
       "    </tr>\n",
       "    <tr>\n",
       "      <th>sample.json</th>\n",
       "      <td>26.90</td>\n",
       "      <td>15.925</td>\n",
       "      <td>25.725</td>\n",
       "    </tr>\n",
       "  </tbody>\n",
       "</table>\n",
       "</div>"
      ],
      "text/plain": [
       "server_name               ConnectClosestMinesAi    Dummy  GreedyAi\n",
       "map                                                               \n",
       "Sierpinski-triangle.json                1775.65  182.875  1890.125\n",
       "sample.json                               26.90   15.925    25.725"
      ]
     },
     "execution_count": 4,
     "metadata": {},
     "output_type": "execute_result"
    }
   ],
   "source": [
    "groups = data.groupby(['server_name','map']).mean()['scores'].to_frame().reset_index()\n",
    "pd.pivot_table(groups, index='map',values='scores',columns='server_name')"
   ]
  }
 ],
 "metadata": {
  "kernelspec": {
   "display_name": "Python 3",
   "language": "python",
   "name": "python3"
  },
  "language_info": {
   "codemirror_mode": {
    "name": "ipython",
    "version": 3
   },
   "file_extension": ".py",
   "mimetype": "text/x-python",
   "name": "python",
   "nbconvert_exporter": "python",
   "pygments_lexer": "ipython3",
   "version": "3.6.0"
  }
 },
 "nbformat": 4,
 "nbformat_minor": 2
}
