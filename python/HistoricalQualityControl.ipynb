{
 "cells": [
  {
   "cell_type": "code",
   "execution_count": 1,
   "metadata": {
    "collapsed": false
   },
   "outputs": [
    {
     "data": {
      "text/plain": [
       "<module 'magic' from 'D:\\\\work\\\\icfpc2017\\\\python\\\\magic\\\\__init__.py'>"
      ]
     },
     "execution_count": 1,
     "metadata": {},
     "output_type": "execute_result"
    }
   ],
   "source": [
    "import pandas as pd\n",
    "import numpy as np\n",
    "import magic\n",
    "from matplotlib import pyplot as plt\n",
    "import importlib\n",
    "%matplotlib inline\n",
    "importlib.reload(magic)"
   ]
  },
  {
   "cell_type": "code",
   "execution_count": null,
   "metadata": {
    "collapsed": false
   },
   "outputs": [],
   "source": []
  },
  {
   "cell_type": "code",
   "execution_count": 2,
   "metadata": {
    "collapsed": false
   },
   "outputs": [
    {
     "name": "stdout",
     "output_type": "stream",
     "text": [
      "1               \r"
     ]
    },
    {
     "data": {
      "text/plain": [
       "<magic.fluent.Fluent at 0x9fc7b38>"
      ]
     },
     "execution_count": 2,
     "metadata": {},
     "output_type": "execute_result"
    }
   ],
   "source": [
    "runner = magic.Fluent()\n",
    "(runner\n",
    "     .create_historical_players(3)\n",
    "     .battles_on_map('sample.json', 2, 30)\n",
    "     .battles_on_map('Sierpinski-triangle.json', 3, 40)\n",
    "     .battles_on_map('gothenburg-sparse.json', 8, 60)\n",
    "     .experiment('Historical')\n",
    "     .run().dump().store_pointwise('historical.csv')\n",
    ")\n",
    "     "
   ]
  },
  {
   "cell_type": "code",
   "execution_count": 3,
   "metadata": {
    "collapsed": false
   },
   "outputs": [
    {
     "data": {
      "text/plain": [
       "99838"
      ]
     },
     "execution_count": 3,
     "metadata": {},
     "output_type": "execute_result"
    }
   ],
   "source": [
    "runner.token"
   ]
  },
  {
   "cell_type": "code",
   "execution_count": 4,
   "metadata": {
    "collapsed": false
   },
   "outputs": [],
   "source": [
    "\n",
    "data = pd.read_csv('historical.csv', index_col=False)\n",
    "\n",
    "data['tournament'] = data.tournament_scores/data.num_players\n",
    "data['effectiveness'] = np.log(data.scores+1)/np.log(data.map_rivers_count/data.num_players)"
   ]
  },
  {
   "cell_type": "code",
   "execution_count": 5,
   "metadata": {
    "collapsed": false
   },
   "outputs": [
    {
     "data": {
      "text/html": [
       "<div>\n",
       "<table border=\"1\" class=\"dataframe\">\n",
       "  <thead>\n",
       "    <tr>\n",
       "      <th></th>\n",
       "      <th colspan=\"3\" halign=\"left\">tournament</th>\n",
       "      <th colspan=\"3\" halign=\"left\">effectiveness</th>\n",
       "      <th colspan=\"3\" halign=\"left\">scores</th>\n",
       "    </tr>\n",
       "    <tr>\n",
       "      <th>server_name</th>\n",
       "      <th>ConnectClosestMinesAi</th>\n",
       "      <th>LochKillerAi</th>\n",
       "      <th>MaxReachableVertexWeightAi</th>\n",
       "      <th>ConnectClosestMinesAi</th>\n",
       "      <th>LochKillerAi</th>\n",
       "      <th>MaxReachableVertexWeightAi</th>\n",
       "      <th>ConnectClosestMinesAi</th>\n",
       "      <th>LochKillerAi</th>\n",
       "      <th>MaxReachableVertexWeightAi</th>\n",
       "    </tr>\n",
       "    <tr>\n",
       "      <th>map</th>\n",
       "      <th></th>\n",
       "      <th></th>\n",
       "      <th></th>\n",
       "      <th></th>\n",
       "      <th></th>\n",
       "      <th></th>\n",
       "      <th></th>\n",
       "      <th></th>\n",
       "      <th></th>\n",
       "    </tr>\n",
       "  </thead>\n",
       "  <tbody>\n",
       "    <tr>\n",
       "      <th>Sierpinski-triangle.json</th>\n",
       "      <td>0.707317</td>\n",
       "      <td>0.740741</td>\n",
       "      <td>0.565891</td>\n",
       "      <td>2.126613</td>\n",
       "      <td>2.159811</td>\n",
       "      <td>2.064013</td>\n",
       "      <td>1136.829268</td>\n",
       "      <td>1253.277778</td>\n",
       "      <td>975.534884</td>\n",
       "    </tr>\n",
       "    <tr>\n",
       "      <th>gothenburg-sparse.json</th>\n",
       "      <td>0.527778</td>\n",
       "      <td>0.595092</td>\n",
       "      <td>0.559066</td>\n",
       "      <td>2.017946</td>\n",
       "      <td>2.104517</td>\n",
       "      <td>2.022083</td>\n",
       "      <td>100238.096296</td>\n",
       "      <td>161527.613497</td>\n",
       "      <td>95202.565934</td>\n",
       "    </tr>\n",
       "    <tr>\n",
       "      <th>sample.json</th>\n",
       "      <td>0.791667</td>\n",
       "      <td>0.650000</td>\n",
       "      <td>0.812500</td>\n",
       "      <td>1.832165</td>\n",
       "      <td>1.826727</td>\n",
       "      <td>1.818474</td>\n",
       "      <td>25.666667</td>\n",
       "      <td>25.450000</td>\n",
       "      <td>25.062500</td>\n",
       "    </tr>\n",
       "  </tbody>\n",
       "</table>\n",
       "</div>"
      ],
      "text/plain": [
       "                                    tournament               \\\n",
       "server_name              ConnectClosestMinesAi LochKillerAi   \n",
       "map                                                           \n",
       "Sierpinski-triangle.json              0.707317     0.740741   \n",
       "gothenburg-sparse.json                0.527778     0.595092   \n",
       "sample.json                           0.791667     0.650000   \n",
       "\n",
       "                                                            effectiveness  \\\n",
       "server_name              MaxReachableVertexWeightAi ConnectClosestMinesAi   \n",
       "map                                                                         \n",
       "Sierpinski-triangle.json                   0.565891              2.126613   \n",
       "gothenburg-sparse.json                     0.559066              2.017946   \n",
       "sample.json                                0.812500              1.832165   \n",
       "\n",
       "                                                                  \\\n",
       "server_name              LochKillerAi MaxReachableVertexWeightAi   \n",
       "map                                                                \n",
       "Sierpinski-triangle.json     2.159811                   2.064013   \n",
       "gothenburg-sparse.json       2.104517                   2.022083   \n",
       "sample.json                  1.826727                   1.818474   \n",
       "\n",
       "                                        scores                 \\\n",
       "server_name              ConnectClosestMinesAi   LochKillerAi   \n",
       "map                                                             \n",
       "Sierpinski-triangle.json           1136.829268    1253.277778   \n",
       "gothenburg-sparse.json           100238.096296  161527.613497   \n",
       "sample.json                          25.666667      25.450000   \n",
       "\n",
       "                                                     \n",
       "server_name              MaxReachableVertexWeightAi  \n",
       "map                                                  \n",
       "Sierpinski-triangle.json                 975.534884  \n",
       "gothenburg-sparse.json                 95202.565934  \n",
       "sample.json                               25.062500  "
      ]
     },
     "execution_count": 5,
     "metadata": {},
     "output_type": "execute_result"
    }
   ],
   "source": [
    "columns  = ['tournament', 'effectiveness','scores']\n",
    "groups = data.groupby(['server_name','map']).mean().loc[:,columns].reset_index()\n",
    "pd.pivot_table(groups, columns='server_name', index='map', values = columns)"
   ]
  }
 ],
 "metadata": {
  "kernelspec": {
   "display_name": "Python 3",
   "language": "python",
   "name": "python3"
  },
  "language_info": {
   "codemirror_mode": {
    "name": "ipython",
    "version": 3
   },
   "file_extension": ".py",
   "mimetype": "text/x-python",
   "name": "python",
   "nbconvert_exporter": "python",
   "pygments_lexer": "ipython3",
   "version": "3.6.0"
  }
 },
 "nbformat": 4,
 "nbformat_minor": 2
}
