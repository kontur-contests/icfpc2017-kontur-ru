{
 "cells": [
  {
   "cell_type": "code",
   "execution_count": 5,
   "metadata": {
    "collapsed": false
   },
   "outputs": [
    {
     "data": {
      "text/plain": [
       "<module 'magic' from 'D:\\\\work\\\\icfpc2017\\\\python\\\\magic\\\\__init__.py'>"
      ]
     },
     "execution_count": 5,
     "metadata": {},
     "output_type": "execute_result"
    }
   ],
   "source": [
    "import pandas as pd\n",
    "import numpy as np\n",
    "import magic\n",
    "from matplotlib import pyplot as plt\n",
    "import importlib\n",
    "%matplotlib inline\n",
    "importlib.reload(magic)"
   ]
  },
  {
   "cell_type": "code",
   "execution_count": 6,
   "metadata": {
    "collapsed": false
   },
   "outputs": [],
   "source": [
    "runner = magic.Fluent()"
   ]
  },
  {
   "cell_type": "code",
   "execution_count": 7,
   "metadata": {
    "collapsed": false
   },
   "outputs": [
    {
     "data": {
      "text/plain": [
       "<magic.fluent.Fluent at 0xa14f6a0>"
      ]
     },
     "execution_count": 7,
     "metadata": {},
     "output_type": "execute_result"
    }
   ],
   "source": [
    "(magic.Fluent()\n",
    "     .create_historical_players(2)\n",
    "     .battling_in_pairs()\n",
    "     .on_maps('sample.json','Sierpinski-triangle.json')\n",
    "     .experiment('Historical')\n",
    "     .run()\n",
    "     .dump()\n",
    "     .store_pointwise('historical.csv'))\n",
    "     "
   ]
  },
  {
   "cell_type": "code",
   "execution_count": 8,
   "metadata": {
    "collapsed": false
   },
   "outputs": [
    {
     "data": {
      "text/html": [
       "<div>\n",
       "<table border=\"1\" class=\"dataframe\">\n",
       "  <thead>\n",
       "    <tr style=\"text-align: right;\">\n",
       "      <th></th>\n",
       "      <th>game_number</th>\n",
       "      <th>server_name</th>\n",
       "      <th>scores</th>\n",
       "      <th>num_players</th>\n",
       "      <th>name</th>\n",
       "      <th>Age</th>\n",
       "    </tr>\n",
       "  </thead>\n",
       "  <tbody>\n",
       "    <tr>\n",
       "      <th>0</th>\n",
       "      <td>0</td>\n",
       "      <td>GreedyAi</td>\n",
       "      <td>25</td>\n",
       "      <td>2</td>\n",
       "      <td>sample.json</td>\n",
       "      <td>Age0</td>\n",
       "    </tr>\n",
       "    <tr>\n",
       "      <th>1</th>\n",
       "      <td>0</td>\n",
       "      <td>Dummy</td>\n",
       "      <td>20</td>\n",
       "      <td>2</td>\n",
       "      <td>sample.json</td>\n",
       "      <td>Age1</td>\n",
       "    </tr>\n",
       "    <tr>\n",
       "      <th>2</th>\n",
       "      <td>1</td>\n",
       "      <td>GreedyAi</td>\n",
       "      <td>733</td>\n",
       "      <td>2</td>\n",
       "      <td>Sierpinski-triangle.json</td>\n",
       "      <td>Age0</td>\n",
       "    </tr>\n",
       "    <tr>\n",
       "      <th>3</th>\n",
       "      <td>1</td>\n",
       "      <td>Dummy</td>\n",
       "      <td>484</td>\n",
       "      <td>2</td>\n",
       "      <td>Sierpinski-triangle.json</td>\n",
       "      <td>Age1</td>\n",
       "    </tr>\n",
       "  </tbody>\n",
       "</table>\n",
       "</div>"
      ],
      "text/plain": [
       "   game_number server_name  scores  num_players                      name  \\\n",
       "0            0    GreedyAi      25            2               sample.json   \n",
       "1            0       Dummy      20            2               sample.json   \n",
       "2            1    GreedyAi     733            2  Sierpinski-triangle.json   \n",
       "3            1       Dummy     484            2  Sierpinski-triangle.json   \n",
       "\n",
       "    Age  \n",
       "0  Age0  \n",
       "1  Age1  \n",
       "2  Age0  \n",
       "3  Age1  "
      ]
     },
     "execution_count": 8,
     "metadata": {},
     "output_type": "execute_result"
    }
   ],
   "source": [
    "data = pd.read_csv('historical.csv', index_col=False)\n",
    "data"
   ]
  },
  {
   "cell_type": "code",
   "execution_count": null,
   "metadata": {
    "collapsed": true
   },
   "outputs": [],
   "source": []
  }
 ],
 "metadata": {
  "kernelspec": {
   "display_name": "Python 3",
   "language": "python",
   "name": "python3"
  },
  "language_info": {
   "codemirror_mode": {
    "name": "ipython",
    "version": 3
   },
   "file_extension": ".py",
   "mimetype": "text/x-python",
   "name": "python",
   "nbconvert_exporter": "python",
   "pygments_lexer": "ipython3",
   "version": "3.6.0"
  }
 },
 "nbformat": 4,
 "nbformat_minor": 2
}
